{
 "cells": [
  {
   "cell_type": "markdown",
   "metadata": {},
   "source": [
    "# Predict Tweets Sentiment \n",
    "\n",
    "Recurrent Neural networks to predict the sentiment of various tweets. We would like to predict the tweets as positive or negative. You can download the dataset here(https://github.com/crwong/cs224u-project/tree/master/data/sentiment).\n",
    "\n",
    "We have around 1600000 tweets to train our network. Let’s now use RNNs to classify various tweets as positive or negative."
   ]
  },
  {
   "cell_type": "markdown",
   "metadata": {},
   "source": [
    "### What i learnt\n",
    " - Using pretrained Glove Embeddings\n",
    " - Converting input text into Word Embeddings\n",
    " - Using RNN in Keras framework"
   ]
  },
  {
   "cell_type": "code",
   "execution_count": 1,
   "metadata": {},
   "outputs": [
    {
     "name": "stderr",
     "output_type": "stream",
     "text": [
      "C:\\Installations\\Anaconda\\lib\\site-packages\\h5py\\__init__.py:34: FutureWarning: Conversion of the second argument of issubdtype from `float` to `np.floating` is deprecated. In future, it will be treated as `np.float64 == np.dtype(float).type`.\n",
      "  from ._conv import register_converters as _register_converters\n",
      "Using TensorFlow backend.\n"
     ]
    }
   ],
   "source": [
    "# import all libraries\n",
    "import keras\n",
    "from keras.models import Sequential\n",
    "from keras.layers import Dense, Activation, Dropout\n",
    "from keras.layers.convolutional import Conv1D\n",
    "from keras.preprocessing.text import Tokenizer\n",
    "from keras.preprocessing.sequence import pad_sequences\n",
    "import pandas as pd\n",
    "import numpy as np\n",
    "import spacy\n",
    "nlp = spacy.load('en')\n"
   ]
  },
  {
   "cell_type": "code",
   "execution_count": 86,
   "metadata": {},
   "outputs": [],
   "source": [
    "#load the dataset\n",
    "import pandas as pd\n",
    "train=pd.read_csv(\"C:/Users/vindla/Downloads/Cg_DS4/AV_NLP/RNN-Tweets/training.1600000.processed.noemoticon.csv\" , encoding= \"latin-1\")\n",
    "Y_train = train[train.columns[0]]\n",
    "X_train = train[train.columns[5]]\n"
   ]
  },
  {
   "cell_type": "code",
   "execution_count": 100,
   "metadata": {},
   "outputs": [],
   "source": [
    "# split the data into test and train\n",
    "from sklearn.model_selection import train_test_split\n",
    "trainset1x, trainset2x, trainset1y, trainset2y = train_test_split(X_train.values, Y_train.values, test_size=0.02,random_state=42 )\n",
    "\n",
    "trainset2y=pd.get_dummies(trainset2y)\n",
    "trainset1y=pd.get_dummies(trainset1y)"
   ]
  },
  {
   "cell_type": "code",
   "execution_count": 101,
   "metadata": {
    "collapsed": true
   },
   "outputs": [],
   "source": [
    "# function to remove stopwords\n",
    "def stopwords(sentence):\n",
    "    new=[]\n",
    "    sentence=nlp(sentence)\n",
    "    for w in sentence:\n",
    "        if (w.is_stop == False) & (w.pos_ !=\"PUNCT\"):\n",
    "            new.append(w.string.strip())\n",
    "        c=\" \".join(str(x) for x in new)\n",
    "    return c"
   ]
  },
  {
   "cell_type": "code",
   "execution_count": 102,
   "metadata": {
    "collapsed": true
   },
   "outputs": [],
   "source": [
    "# function to lemmatize the tweets\n",
    "def lemmatize(sentence):\n",
    "    sentence=nlp(sentence)\n",
    "    str=\"\"\n",
    "    for w in sentence:\n",
    "        str+=\" \"+w.lemma_\n",
    "    return nlp(str)"
   ]
  },
  {
   "cell_type": "code",
   "execution_count": 103,
   "metadata": {
    "collapsed": true
   },
   "outputs": [],
   "source": [
    "#loading the glove model\n",
    "def loadGloveModel(gloveFile):\n",
    "    print(\"Loading Glove Model\")\n",
    "    f = open(gloveFile,'r',encoding=\"utf8\")\n",
    "    model = {}\n",
    "    for line in f:\n",
    "        splitLine = line.split()\n",
    "        word = splitLine[0]\n",
    "        embedding = [float(val) for val in splitLine[1:]]\n",
    "        model[word] = embedding\n",
    "    print (\"Done.\"),len(model),(\" words loaded!\")\n",
    "    return model"
   ]
  },
  {
   "cell_type": "code",
   "execution_count": 104,
   "metadata": {},
   "outputs": [
    {
     "name": "stdout",
     "output_type": "stream",
     "text": [
      "Loading Glove Model\n",
      "Done.\n"
     ]
    }
   ],
   "source": [
    "# save the glove model\n",
    "model=loadGloveModel(\"C:/Users/vindla/Downloads/Cg_DS4/AV_NLP/RNN-Tweets/glove.twitter.27B.200d.txt\")"
   ]
  },
  {
   "cell_type": "code",
   "execution_count": 105,
   "metadata": {
    "collapsed": true
   },
   "outputs": [],
   "source": [
    "#vectorising the sentences\n",
    "def sent_vectorizer(sent, model):\n",
    "    sent_vec = np.zeros(200)\n",
    "    numw = 0\n",
    "    for w in sent.split():\n",
    "        try:\n",
    "            sent_vec = np.add(sent_vec, model[str(w)])\n",
    "            numw+=1\n",
    "        except:\n",
    "            pass\n",
    "    return sent_vec"
   ]
  },
  {
   "cell_type": "code",
   "execution_count": 106,
   "metadata": {
    "collapsed": true
   },
   "outputs": [],
   "source": [
    "trainsetx = trainset1x\n",
    "trainsety = trainset1y"
   ]
  },
  {
   "cell_type": "code",
   "execution_count": 107,
   "metadata": {},
   "outputs": [],
   "source": [
    "#obtain a clean vector\n",
    "cleanvector=[]\n",
    "for i in range(trainsetx.shape[0]):\n",
    "    document=trainsetx[i]\n",
    "    document=document.lower()\n",
    "    document=lemmatize(document)\n",
    "    document=str(document)\n",
    "    cleanvector.append(sent_vectorizer(document,model))"
   ]
  },
  {
   "cell_type": "code",
   "execution_count": 108,
   "metadata": {},
   "outputs": [],
   "source": [
    "#Getting the input and output in proper shape\n",
    "cleanvector=np.array(cleanvector)\n",
    "cleanvector =cleanvector.reshape(len(cleanvector),200,1)"
   ]
  },
  {
   "cell_type": "code",
   "execution_count": 109,
   "metadata": {},
   "outputs": [
    {
     "name": "stdout",
     "output_type": "stream",
     "text": [
      "Found 29863 unique tokens.\n",
      "(19599, 15)\n"
     ]
    }
   ],
   "source": [
    "#tokenizing the sequences\n",
    "tokenizer = Tokenizer(num_words=16000)\n",
    "tokenizer.fit_on_texts(trainsetx)\n",
    "sequences = tokenizer.texts_to_sequences(trainsetx)\n",
    "word_index = tokenizer.word_index\n",
    "print('Found %s unique tokens.' % len(word_index))\n",
    "\n",
    "data = pad_sequences(sequences, maxlen=15, padding=\"post\")\n",
    "print(data.shape)"
   ]
  },
  {
   "cell_type": "code",
   "execution_count": 110,
   "metadata": {},
   "outputs": [],
   "source": [
    "#reshape the data and preparing to train\n",
    "data=data.reshape(len(cleanvector),15,1)\n",
    "from sklearn.model_selection import train_test_split\n",
    "trainx, validx, trainy, validy = train_test_split(data, trainsety, test_size=0.3,random_state=42 )"
   ]
  },
  {
   "cell_type": "code",
   "execution_count": 111,
   "metadata": {},
   "outputs": [
    {
     "data": {
      "text/plain": [
       "\"\\n# Example to understand tokenization and text to sequence\\ndocs = ['Well done!',\\n\\t\\t'Good work',\\n\\t\\t'Great effort',\\n\\t\\t'nice work',\\n\\t\\t'Excellent!']\\n# create the tokenizer\\nt = Tokenizer()\\n# fit the tokenizer on the documents\\nt.fit_on_texts(docs)\\n# summarize what was learned\\nprint(t.word_counts)\\nprint(t.document_count)\\nprint(t.word_index)\\nprint(t.word_docs)\\nprint(t.texts_to_sequences(docs))\\nword_index = t.word_index\\n\""
      ]
     },
     "execution_count": 111,
     "metadata": {},
     "output_type": "execute_result"
    }
   ],
   "source": [
    "'''\n",
    "# Example to understand tokenization and text to sequence\n",
    "docs = ['Well done!',\n",
    "\t\t'Good work',\n",
    "\t\t'Great effort',\n",
    "\t\t'nice work',\n",
    "\t\t'Excellent!']\n",
    "# create the tokenizer\n",
    "t = Tokenizer()\n",
    "# fit the tokenizer on the documents\n",
    "t.fit_on_texts(docs)\n",
    "# summarize what was learned\n",
    "print(t.word_counts)\n",
    "print(t.document_count)\n",
    "print(t.word_index)\n",
    "print(t.word_docs)\n",
    "print(t.texts_to_sequences(docs))\n",
    "word_index = t.word_index\n",
    "'''"
   ]
  },
  {
   "cell_type": "code",
   "execution_count": 112,
   "metadata": {},
   "outputs": [
    {
     "name": "stdout",
     "output_type": "stream",
     "text": [
      "Null word embeddings: 12340\n"
     ]
    }
   ],
   "source": [
    "#calculate the number of words\n",
    "nb_words=len(tokenizer.word_index)+1\n",
    "\n",
    "#obtain theembedding matrix\n",
    "embedding_matrix = np.zeros((nb_words, 200))\n",
    "for word, i in word_index.items():\n",
    "    embedding_vector = model.get(word)\n",
    "    if embedding_vector is not None:\n",
    "        embedding_matrix[i] = embedding_vector\n",
    "print('Null word embeddings: %d' % np.sum(np.sum(embedding_matrix, axis=1) == 0))\n",
    "\n",
    "trainy=np.array(trainy)\n",
    "validy=np.array(validy)"
   ]
  },
  {
   "cell_type": "code",
   "execution_count": 113,
   "metadata": {},
   "outputs": [
    {
     "name": "stdout",
     "output_type": "stream",
     "text": [
      "(13719, 15, 1)\n",
      "(5880, 15, 1)\n",
      "(13719, 2)\n",
      "(5880, 2)\n"
     ]
    }
   ],
   "source": [
    "print(trainx.shape)\n",
    "print(validx.shape)\n",
    "print(trainy.shape)\n",
    "print(validy.shape)"
   ]
  },
  {
   "cell_type": "code",
   "execution_count": 114,
   "metadata": {},
   "outputs": [],
   "source": [
    "#building a simple RNN model\n",
    "def modelbuild():\n",
    "    model = Sequential()\n",
    "    model.add(keras.layers.InputLayer(input_shape=(15,1)))\n",
    "    keras.layers.embeddings.Embedding(nb_words, 15, weights=[embedding_matrix], input_length=15,\n",
    "    trainable=False)\n",
    " \n",
    "    model.add(keras.layers.recurrent.SimpleRNN(units = 100, activation='relu',\n",
    "    use_bias=True))\n",
    "    model.add(keras.layers.Dense(units=1000, input_dim = 2000, activation='sigmoid'))\n",
    "    model.add(keras.layers.Dense(units=500, input_dim=1000, activation='relu'))\n",
    "    model.add(keras.layers.Dense(units=2, input_dim=500,activation='softmax'))\n",
    "    model.compile(loss='categorical_crossentropy', optimizer='adam', metrics=['accuracy'])\n",
    "    return model"
   ]
  },
  {
   "cell_type": "code",
   "execution_count": 115,
   "metadata": {},
   "outputs": [
    {
     "name": "stdout",
     "output_type": "stream",
     "text": [
      "Train on 13719 samples, validate on 5880 samples\n",
      "Epoch 1/10\n",
      "13719/13719 [==============================] - ETA: 1:08 - loss: 0.7592 - acc: 0.441 - ETA: 18s - loss: 2.0021 - acc: 0.502 - ETA: 13s - loss: 1.8575 - acc: 0.50 - ETA: 10s - loss: 1.5821 - acc: 0.52 - ETA: 8s - loss: 1.4878 - acc: 0.5125 - ETA: 7s - loss: 1.3187 - acc: 0.519 - ETA: 6s - loss: 1.2747 - acc: 0.513 - ETA: 5s - loss: 1.2178 - acc: 0.518 - ETA: 5s - loss: 1.1636 - acc: 0.518 - ETA: 5s - loss: 1.1244 - acc: 0.518 - ETA: 4s - loss: 1.0809 - acc: 0.516 - ETA: 4s - loss: 1.0392 - acc: 0.514 - ETA: 3s - loss: 1.0099 - acc: 0.512 - ETA: 3s - loss: 0.9910 - acc: 0.512 - ETA: 3s - loss: 0.9646 - acc: 0.516 - ETA: 3s - loss: 0.9477 - acc: 0.512 - ETA: 2s - loss: 0.9353 - acc: 0.512 - ETA: 2s - loss: 0.9241 - acc: 0.510 - ETA: 2s - loss: 0.9094 - acc: 0.510 - ETA: 2s - loss: 0.8966 - acc: 0.507 - ETA: 2s - loss: 0.8853 - acc: 0.507 - ETA: 2s - loss: 0.8752 - acc: 0.509 - ETA: 1s - loss: 0.8657 - acc: 0.511 - ETA: 1s - loss: 0.8609 - acc: 0.509 - ETA: 1s - loss: 0.8529 - acc: 0.508 - ETA: 1s - loss: 0.8457 - acc: 0.508 - ETA: 1s - loss: 0.8396 - acc: 0.507 - ETA: 1s - loss: 0.8336 - acc: 0.506 - ETA: 1s - loss: 0.8297 - acc: 0.506 - ETA: 1s - loss: 0.8246 - acc: 0.506 - ETA: 1s - loss: 0.8198 - acc: 0.505 - ETA: 0s - loss: 0.8151 - acc: 0.506 - ETA: 0s - loss: 0.8108 - acc: 0.505 - ETA: 0s - loss: 0.8067 - acc: 0.506 - ETA: 0s - loss: 0.8042 - acc: 0.506 - ETA: 0s - loss: 0.8004 - acc: 0.508 - ETA: 0s - loss: 0.7969 - acc: 0.508 - ETA: 0s - loss: 0.7941 - acc: 0.509 - ETA: 0s - loss: 0.7910 - acc: 0.509 - ETA: 0s - loss: 0.7882 - acc: 0.510 - ETA: 0s - loss: 0.7856 - acc: 0.509 - ETA: 0s - loss: 0.7833 - acc: 0.509 - ETA: 0s - loss: 0.7812 - acc: 0.507 - 4s 260us/step - loss: 0.7809 - acc: 0.5081 - val_loss: 0.6913 - val_acc: 0.5185\n",
      "Epoch 2/10\n",
      "13719/13719 [==============================] - ETA: 2s - loss: 0.6917 - acc: 0.566 - ETA: 2s - loss: 0.6926 - acc: 0.533 - ETA: 2s - loss: 0.6901 - acc: 0.535 - ETA: 2s - loss: 0.6953 - acc: 0.516 - ETA: 2s - loss: 0.6920 - acc: 0.525 - ETA: 2s - loss: 0.6930 - acc: 0.521 - ETA: 2s - loss: 0.6931 - acc: 0.521 - ETA: 2s - loss: 0.6935 - acc: 0.517 - ETA: 2s - loss: 0.6943 - acc: 0.513 - ETA: 2s - loss: 0.6936 - acc: 0.515 - ETA: 2s - loss: 0.6938 - acc: 0.518 - ETA: 2s - loss: 0.6935 - acc: 0.520 - ETA: 2s - loss: 0.6937 - acc: 0.522 - ETA: 2s - loss: 0.6947 - acc: 0.518 - ETA: 2s - loss: 0.6948 - acc: 0.518 - ETA: 2s - loss: 0.6943 - acc: 0.518 - ETA: 2s - loss: 0.6941 - acc: 0.519 - ETA: 2s - loss: 0.6938 - acc: 0.520 - ETA: 1s - loss: 0.6941 - acc: 0.517 - ETA: 1s - loss: 0.6942 - acc: 0.518 - ETA: 1s - loss: 0.6942 - acc: 0.519 - ETA: 1s - loss: 0.6952 - acc: 0.518 - ETA: 1s - loss: 0.6954 - acc: 0.517 - ETA: 1s - loss: 0.6966 - acc: 0.516 - ETA: 1s - loss: 0.6969 - acc: 0.514 - ETA: 1s - loss: 0.6967 - acc: 0.515 - ETA: 1s - loss: 0.6968 - acc: 0.514 - ETA: 1s - loss: 0.6966 - acc: 0.515 - ETA: 1s - loss: 0.6967 - acc: 0.515 - ETA: 1s - loss: 0.6974 - acc: 0.513 - ETA: 1s - loss: 0.6974 - acc: 0.512 - ETA: 1s - loss: 0.6974 - acc: 0.512 - ETA: 1s - loss: 0.6972 - acc: 0.513 - ETA: 1s - loss: 0.6972 - acc: 0.512 - ETA: 0s - loss: 0.6970 - acc: 0.512 - ETA: 0s - loss: 0.6971 - acc: 0.512 - ETA: 0s - loss: 0.6970 - acc: 0.512 - ETA: 0s - loss: 0.6970 - acc: 0.511 - ETA: 0s - loss: 0.6971 - acc: 0.509 - ETA: 0s - loss: 0.6972 - acc: 0.509 - ETA: 0s - loss: 0.6969 - acc: 0.510 - ETA: 0s - loss: 0.6970 - acc: 0.509 - ETA: 0s - loss: 0.6968 - acc: 0.510 - ETA: 0s - loss: 0.6971 - acc: 0.510 - ETA: 0s - loss: 0.6970 - acc: 0.511 - ETA: 0s - loss: 0.6969 - acc: 0.511 - ETA: 0s - loss: 0.6969 - acc: 0.510 - ETA: 0s - loss: 0.6970 - acc: 0.510 - ETA: 0s - loss: 0.6969 - acc: 0.510 - ETA: 0s - loss: 0.6969 - acc: 0.510 - ETA: 0s - loss: 0.6969 - acc: 0.510 - ETA: 0s - loss: 0.6968 - acc: 0.510 - 3s 238us/step - loss: 0.6968 - acc: 0.5102 - val_loss: 0.6997 - val_acc: 0.5049\n",
      "Epoch 3/10\n",
      "13719/13719 [==============================] - ETA: 2s - loss: 0.7144 - acc: 0.458 - ETA: 2s - loss: 0.6962 - acc: 0.511 - ETA: 2s - loss: 0.6971 - acc: 0.491 - ETA: 2s - loss: 0.6952 - acc: 0.506 - ETA: 2s - loss: 0.6968 - acc: 0.509 - ETA: 2s - loss: 0.6950 - acc: 0.517 - ETA: 2s - loss: 0.6944 - acc: 0.519 - ETA: 2s - loss: 0.6934 - acc: 0.524 - ETA: 2s - loss: 0.6940 - acc: 0.518 - ETA: 2s - loss: 0.6940 - acc: 0.517 - ETA: 2s - loss: 0.6940 - acc: 0.515 - ETA: 2s - loss: 0.6941 - acc: 0.514 - ETA: 2s - loss: 0.6937 - acc: 0.516 - ETA: 2s - loss: 0.6930 - acc: 0.520 - ETA: 2s - loss: 0.6932 - acc: 0.517 - ETA: 2s - loss: 0.6931 - acc: 0.518 - ETA: 2s - loss: 0.6930 - acc: 0.518 - ETA: 2s - loss: 0.6940 - acc: 0.513 - ETA: 2s - loss: 0.6942 - acc: 0.514 - ETA: 2s - loss: 0.6952 - acc: 0.513 - ETA: 1s - loss: 0.6953 - acc: 0.512 - ETA: 1s - loss: 0.6951 - acc: 0.513 - ETA: 1s - loss: 0.6948 - acc: 0.515 - ETA: 1s - loss: 0.6964 - acc: 0.512 - ETA: 1s - loss: 0.6966 - acc: 0.512 - ETA: 1s - loss: 0.6970 - acc: 0.510 - ETA: 1s - loss: 0.6971 - acc: 0.508 - ETA: 1s - loss: 0.6971 - acc: 0.506 - ETA: 1s - loss: 0.6969 - acc: 0.507 - ETA: 1s - loss: 0.6968 - acc: 0.506 - ETA: 1s - loss: 0.6966 - acc: 0.505 - ETA: 1s - loss: 0.6963 - acc: 0.506 - ETA: 1s - loss: 0.6960 - acc: 0.508 - ETA: 1s - loss: 0.6957 - acc: 0.509 - ETA: 1s - loss: 0.6957 - acc: 0.509 - ETA: 1s - loss: 0.6958 - acc: 0.509 - ETA: 1s - loss: 0.6962 - acc: 0.509 - ETA: 1s - loss: 0.6961 - acc: 0.510 - ETA: 0s - loss: 0.6961 - acc: 0.510 - ETA: 0s - loss: 0.6963 - acc: 0.509 - ETA: 0s - loss: 0.6967 - acc: 0.508 - ETA: 0s - loss: 0.6965 - acc: 0.509 - ETA: 0s - loss: 0.6969 - acc: 0.509 - ETA: 0s - loss: 0.6972 - acc: 0.509 - ETA: 0s - loss: 0.6970 - acc: 0.510 - ETA: 0s - loss: 0.6973 - acc: 0.510 - ETA: 0s - loss: 0.6974 - acc: 0.510 - ETA: 0s - loss: 0.6971 - acc: 0.511 - ETA: 0s - loss: 0.6970 - acc: 0.511 - ETA: 0s - loss: 0.6970 - acc: 0.512 - ETA: 0s - loss: 0.6970 - acc: 0.512 - ETA: 0s - loss: 0.6970 - acc: 0.512 - ETA: 0s - loss: 0.6975 - acc: 0.511 - ETA: 0s - loss: 0.6974 - acc: 0.512 - ETA: 0s - loss: 0.6973 - acc: 0.511 - ETA: 0s - loss: 0.6974 - acc: 0.511 - 3s 255us/step - loss: 0.6973 - acc: 0.5115 - val_loss: 0.6907 - val_acc: 0.5306\n",
      "Epoch 4/10\n"
     ]
    },
    {
     "name": "stdout",
     "output_type": "stream",
     "text": [
      "13719/13719 [==============================] - ETA: 2s - loss: 0.6908 - acc: 0.533 - ETA: 2s - loss: 0.6908 - acc: 0.520 - ETA: 2s - loss: 0.6938 - acc: 0.525 - ETA: 3s - loss: 0.6955 - acc: 0.515 - ETA: 2s - loss: 0.6929 - acc: 0.516 - ETA: 2s - loss: 0.6918 - acc: 0.525 - ETA: 2s - loss: 0.6964 - acc: 0.520 - ETA: 2s - loss: 0.6965 - acc: 0.521 - ETA: 2s - loss: 0.6950 - acc: 0.523 - ETA: 2s - loss: 0.6957 - acc: 0.514 - ETA: 2s - loss: 0.6954 - acc: 0.515 - ETA: 2s - loss: 0.6949 - acc: 0.518 - ETA: 2s - loss: 0.6953 - acc: 0.514 - ETA: 2s - loss: 0.6950 - acc: 0.515 - ETA: 2s - loss: 0.6942 - acc: 0.518 - ETA: 2s - loss: 0.6949 - acc: 0.518 - ETA: 2s - loss: 0.6948 - acc: 0.519 - ETA: 2s - loss: 0.6943 - acc: 0.518 - ETA: 2s - loss: 0.6945 - acc: 0.516 - ETA: 2s - loss: 0.6941 - acc: 0.516 - ETA: 2s - loss: 0.6940 - acc: 0.518 - ETA: 2s - loss: 0.6934 - acc: 0.519 - ETA: 2s - loss: 0.6938 - acc: 0.519 - ETA: 2s - loss: 0.6935 - acc: 0.521 - ETA: 1s - loss: 0.6935 - acc: 0.521 - ETA: 1s - loss: 0.6936 - acc: 0.520 - ETA: 1s - loss: 0.6936 - acc: 0.520 - ETA: 1s - loss: 0.6941 - acc: 0.518 - ETA: 1s - loss: 0.6942 - acc: 0.517 - ETA: 1s - loss: 0.6940 - acc: 0.519 - ETA: 1s - loss: 0.6941 - acc: 0.519 - ETA: 1s - loss: 0.6940 - acc: 0.519 - ETA: 1s - loss: 0.6942 - acc: 0.519 - ETA: 1s - loss: 0.6942 - acc: 0.519 - ETA: 1s - loss: 0.6943 - acc: 0.518 - ETA: 1s - loss: 0.6942 - acc: 0.518 - ETA: 1s - loss: 0.6941 - acc: 0.519 - ETA: 1s - loss: 0.6941 - acc: 0.519 - ETA: 1s - loss: 0.6940 - acc: 0.520 - ETA: 1s - loss: 0.6939 - acc: 0.520 - ETA: 0s - loss: 0.6938 - acc: 0.521 - ETA: 0s - loss: 0.6938 - acc: 0.519 - ETA: 0s - loss: 0.6938 - acc: 0.519 - ETA: 0s - loss: 0.6935 - acc: 0.520 - ETA: 0s - loss: 0.6934 - acc: 0.521 - ETA: 0s - loss: 0.6932 - acc: 0.522 - ETA: 0s - loss: 0.6931 - acc: 0.522 - ETA: 0s - loss: 0.6930 - acc: 0.522 - ETA: 0s - loss: 0.6930 - acc: 0.522 - ETA: 0s - loss: 0.6930 - acc: 0.522 - ETA: 0s - loss: 0.6929 - acc: 0.522 - ETA: 0s - loss: 0.6932 - acc: 0.522 - ETA: 0s - loss: 0.6930 - acc: 0.523 - ETA: 0s - loss: 0.6929 - acc: 0.523 - ETA: 0s - loss: 0.6930 - acc: 0.522 - ETA: 0s - loss: 0.6933 - acc: 0.522 - 4s 289us/step - loss: 0.6934 - acc: 0.5222 - val_loss: 0.6916 - val_acc: 0.5223\n",
      "Epoch 5/10\n",
      "13719/13719 [==============================] - ETA: 2s - loss: 0.6877 - acc: 0.508 - ETA: 2s - loss: 0.6918 - acc: 0.494 - ETA: 2s - loss: 0.6903 - acc: 0.516 - ETA: 3s - loss: 0.6933 - acc: 0.516 - ETA: 3s - loss: 0.6894 - acc: 0.527 - ETA: 3s - loss: 0.6900 - acc: 0.524 - ETA: 3s - loss: 0.6919 - acc: 0.525 - ETA: 3s - loss: 0.6918 - acc: 0.521 - ETA: 2s - loss: 0.6926 - acc: 0.514 - ETA: 2s - loss: 0.6924 - acc: 0.516 - ETA: 2s - loss: 0.6921 - acc: 0.518 - ETA: 2s - loss: 0.6932 - acc: 0.515 - ETA: 2s - loss: 0.6925 - acc: 0.517 - ETA: 2s - loss: 0.6927 - acc: 0.516 - ETA: 2s - loss: 0.6925 - acc: 0.516 - ETA: 2s - loss: 0.6923 - acc: 0.517 - ETA: 2s - loss: 0.6920 - acc: 0.519 - ETA: 2s - loss: 0.6923 - acc: 0.517 - ETA: 2s - loss: 0.6922 - acc: 0.518 - ETA: 2s - loss: 0.6921 - acc: 0.518 - ETA: 2s - loss: 0.6920 - acc: 0.518 - ETA: 1s - loss: 0.6921 - acc: 0.518 - ETA: 1s - loss: 0.6921 - acc: 0.519 - ETA: 1s - loss: 0.6922 - acc: 0.517 - ETA: 1s - loss: 0.6922 - acc: 0.516 - ETA: 1s - loss: 0.6918 - acc: 0.519 - ETA: 1s - loss: 0.6916 - acc: 0.519 - ETA: 1s - loss: 0.6918 - acc: 0.519 - ETA: 1s - loss: 0.6920 - acc: 0.519 - ETA: 1s - loss: 0.6920 - acc: 0.519 - ETA: 1s - loss: 0.6920 - acc: 0.518 - ETA: 1s - loss: 0.6920 - acc: 0.519 - ETA: 1s - loss: 0.6921 - acc: 0.518 - ETA: 1s - loss: 0.6917 - acc: 0.520 - ETA: 1s - loss: 0.6916 - acc: 0.520 - ETA: 1s - loss: 0.6916 - acc: 0.521 - ETA: 1s - loss: 0.6912 - acc: 0.523 - ETA: 1s - loss: 0.6913 - acc: 0.523 - ETA: 0s - loss: 0.6914 - acc: 0.523 - ETA: 0s - loss: 0.6914 - acc: 0.522 - ETA: 0s - loss: 0.6912 - acc: 0.521 - ETA: 0s - loss: 0.6912 - acc: 0.523 - ETA: 0s - loss: 0.6915 - acc: 0.522 - ETA: 0s - loss: 0.6916 - acc: 0.522 - ETA: 0s - loss: 0.6914 - acc: 0.523 - ETA: 0s - loss: 0.6914 - acc: 0.523 - ETA: 0s - loss: 0.6914 - acc: 0.523 - ETA: 0s - loss: 0.6917 - acc: 0.522 - ETA: 0s - loss: 0.6915 - acc: 0.522 - ETA: 0s - loss: 0.6915 - acc: 0.523 - ETA: 0s - loss: 0.6914 - acc: 0.523 - ETA: 0s - loss: 0.6915 - acc: 0.522 - ETA: 0s - loss: 0.6916 - acc: 0.521 - ETA: 0s - loss: 0.6917 - acc: 0.521 - ETA: 0s - loss: 0.6917 - acc: 0.521 - ETA: 0s - loss: 0.6918 - acc: 0.521 - 4s 257us/step - loss: 0.6918 - acc: 0.5218 - val_loss: 0.6936 - val_acc: 0.5003\n",
      "Epoch 6/10\n",
      "13719/13719 [==============================] - ETA: 3s - loss: 0.6957 - acc: 0.466 - ETA: 2s - loss: 0.6951 - acc: 0.494 - ETA: 3s - loss: 0.6930 - acc: 0.500 - ETA: 3s - loss: 0.6918 - acc: 0.519 - ETA: 3s - loss: 0.6943 - acc: 0.517 - ETA: 2s - loss: 0.6937 - acc: 0.512 - ETA: 2s - loss: 0.6931 - acc: 0.512 - ETA: 2s - loss: 0.6915 - acc: 0.519 - ETA: 2s - loss: 0.6923 - acc: 0.517 - ETA: 2s - loss: 0.6917 - acc: 0.522 - ETA: 2s - loss: 0.6926 - acc: 0.522 - ETA: 1s - loss: 0.6934 - acc: 0.520 - ETA: 1s - loss: 0.6945 - acc: 0.515 - ETA: 1s - loss: 0.6942 - acc: 0.516 - ETA: 1s - loss: 0.6934 - acc: 0.520 - ETA: 1s - loss: 0.6939 - acc: 0.520 - ETA: 1s - loss: 0.6938 - acc: 0.520 - ETA: 1s - loss: 0.6938 - acc: 0.519 - ETA: 1s - loss: 0.6938 - acc: 0.519 - ETA: 1s - loss: 0.6934 - acc: 0.521 - ETA: 1s - loss: 0.6936 - acc: 0.518 - ETA: 1s - loss: 0.6933 - acc: 0.519 - ETA: 1s - loss: 0.6933 - acc: 0.519 - ETA: 1s - loss: 0.6931 - acc: 0.520 - ETA: 1s - loss: 0.6932 - acc: 0.518 - ETA: 0s - loss: 0.6926 - acc: 0.521 - ETA: 0s - loss: 0.6926 - acc: 0.521 - ETA: 0s - loss: 0.6926 - acc: 0.522 - ETA: 0s - loss: 0.6924 - acc: 0.522 - ETA: 0s - loss: 0.6924 - acc: 0.522 - ETA: 0s - loss: 0.6926 - acc: 0.521 - ETA: 0s - loss: 0.6924 - acc: 0.521 - ETA: 0s - loss: 0.6933 - acc: 0.519 - ETA: 0s - loss: 0.6932 - acc: 0.520 - ETA: 0s - loss: 0.6929 - acc: 0.521 - ETA: 0s - loss: 0.6932 - acc: 0.520 - ETA: 0s - loss: 0.6929 - acc: 0.521 - ETA: 0s - loss: 0.6929 - acc: 0.522 - ETA: 0s - loss: 0.6929 - acc: 0.522 - ETA: 0s - loss: 0.6928 - acc: 0.523 - ETA: 0s - loss: 0.6928 - acc: 0.523 - 3s 206us/step - loss: 0.6928 - acc: 0.5238 - val_loss: 0.6917 - val_acc: 0.5204\n",
      "Epoch 7/10\n",
      "13719/13719 [==============================] - ETA: 2s - loss: 0.6840 - acc: 0.558 - ETA: 2s - loss: 0.6894 - acc: 0.522 - ETA: 2s - loss: 0.6914 - acc: 0.520 - ETA: 2s - loss: 0.6911 - acc: 0.525 - ETA: 2s - loss: 0.6903 - acc: 0.525 - ETA: 2s - loss: 0.6915 - acc: 0.519 - ETA: 2s - loss: 0.6918 - acc: 0.521 - ETA: 1s - loss: 0.6915 - acc: 0.521 - ETA: 1s - loss: 0.6904 - acc: 0.526 - ETA: 1s - loss: 0.6913 - acc: 0.525 - ETA: 1s - loss: 0.6911 - acc: 0.528 - ETA: 1s - loss: 0.6914 - acc: 0.525 - ETA: 1s - loss: 0.6917 - acc: 0.525 - ETA: 1s - loss: 0.6921 - acc: 0.523 - ETA: 1s - loss: 0.6924 - acc: 0.520 - ETA: 1s - loss: 0.6927 - acc: 0.517 - ETA: 1s - loss: 0.6922 - acc: 0.518 - ETA: 1s - loss: 0.6920 - acc: 0.518 - ETA: 1s - loss: 0.6929 - acc: 0.515 - ETA: 1s - loss: 0.6931 - acc: 0.514 - ETA: 1s - loss: 0.6928 - acc: 0.516 - ETA: 1s - loss: 0.6929 - acc: 0.515 - ETA: 1s - loss: 0.6931 - acc: 0.513 - ETA: 0s - loss: 0.6930 - acc: 0.514 - ETA: 0s - loss: 0.6938 - acc: 0.513 - ETA: 0s - loss: 0.6937 - acc: 0.514 - ETA: 0s - loss: 0.6936 - acc: 0.515 - ETA: 0s - loss: 0.6932 - acc: 0.516 - ETA: 0s - loss: 0.6935 - acc: 0.515 - ETA: 0s - loss: 0.6933 - acc: 0.516 - ETA: 0s - loss: 0.6931 - acc: 0.516 - ETA: 0s - loss: 0.6932 - acc: 0.516 - ETA: 0s - loss: 0.6932 - acc: 0.516 - ETA: 0s - loss: 0.6930 - acc: 0.517 - ETA: 0s - loss: 0.6928 - acc: 0.518 - ETA: 0s - loss: 0.6926 - acc: 0.519 - ETA: 0s - loss: 0.6926 - acc: 0.519 - ETA: 0s - loss: 0.6925 - acc: 0.519 - 3s 199us/step - loss: 0.6922 - acc: 0.5206 - val_loss: 0.6925 - val_acc: 0.5202\n",
      "Epoch 8/10\n"
     ]
    },
    {
     "name": "stdout",
     "output_type": "stream",
     "text": [
      "13719/13719 [==============================] - ETA: 2s - loss: 0.6995 - acc: 0.516 - ETA: 2s - loss: 0.6934 - acc: 0.531 - ETA: 2s - loss: 0.6960 - acc: 0.510 - ETA: 2s - loss: 0.6948 - acc: 0.510 - ETA: 2s - loss: 0.6954 - acc: 0.503 - ETA: 2s - loss: 0.6944 - acc: 0.504 - ETA: 2s - loss: 0.6933 - acc: 0.512 - ETA: 1s - loss: 0.6929 - acc: 0.515 - ETA: 1s - loss: 0.6926 - acc: 0.518 - ETA: 1s - loss: 0.6929 - acc: 0.513 - ETA: 1s - loss: 0.6937 - acc: 0.508 - ETA: 1s - loss: 0.6943 - acc: 0.508 - ETA: 1s - loss: 0.6942 - acc: 0.508 - ETA: 1s - loss: 0.6942 - acc: 0.507 - ETA: 1s - loss: 0.6944 - acc: 0.505 - ETA: 1s - loss: 0.6938 - acc: 0.508 - ETA: 1s - loss: 0.6935 - acc: 0.510 - ETA: 1s - loss: 0.6935 - acc: 0.510 - ETA: 1s - loss: 0.6935 - acc: 0.510 - ETA: 1s - loss: 0.6933 - acc: 0.511 - ETA: 1s - loss: 0.6932 - acc: 0.511 - ETA: 1s - loss: 0.6928 - acc: 0.512 - ETA: 1s - loss: 0.6924 - acc: 0.513 - ETA: 0s - loss: 0.6923 - acc: 0.512 - ETA: 0s - loss: 0.6922 - acc: 0.511 - ETA: 0s - loss: 0.6918 - acc: 0.512 - ETA: 0s - loss: 0.6917 - acc: 0.513 - ETA: 0s - loss: 0.6916 - acc: 0.514 - ETA: 0s - loss: 0.6913 - acc: 0.516 - ETA: 0s - loss: 0.6916 - acc: 0.515 - ETA: 0s - loss: 0.6916 - acc: 0.515 - ETA: 0s - loss: 0.6914 - acc: 0.517 - ETA: 0s - loss: 0.6920 - acc: 0.516 - ETA: 0s - loss: 0.6918 - acc: 0.517 - ETA: 0s - loss: 0.6917 - acc: 0.517 - ETA: 0s - loss: 0.6919 - acc: 0.516 - ETA: 0s - loss: 0.6917 - acc: 0.517 - ETA: 0s - loss: 0.6915 - acc: 0.518 - ETA: 0s - loss: 0.6915 - acc: 0.518 - 3s 199us/step - loss: 0.6917 - acc: 0.5183 - val_loss: 0.6922 - val_acc: 0.5179\n",
      "Epoch 9/10\n",
      "13719/13719 [==============================] - ETA: 2s - loss: 0.6954 - acc: 0.475 - ETA: 2s - loss: 0.6891 - acc: 0.541 - ETA: 2s - loss: 0.6877 - acc: 0.554 - ETA: 2s - loss: 0.6874 - acc: 0.551 - ETA: 2s - loss: 0.6902 - acc: 0.530 - ETA: 2s - loss: 0.6898 - acc: 0.528 - ETA: 1s - loss: 0.6890 - acc: 0.530 - ETA: 1s - loss: 0.6893 - acc: 0.526 - ETA: 1s - loss: 0.6900 - acc: 0.523 - ETA: 1s - loss: 0.6906 - acc: 0.521 - ETA: 1s - loss: 0.6911 - acc: 0.517 - ETA: 1s - loss: 0.6907 - acc: 0.522 - ETA: 1s - loss: 0.6919 - acc: 0.518 - ETA: 1s - loss: 0.6925 - acc: 0.516 - ETA: 1s - loss: 0.6921 - acc: 0.518 - ETA: 1s - loss: 0.6923 - acc: 0.518 - ETA: 1s - loss: 0.6924 - acc: 0.519 - ETA: 1s - loss: 0.6921 - acc: 0.519 - ETA: 1s - loss: 0.6918 - acc: 0.521 - ETA: 1s - loss: 0.6920 - acc: 0.518 - ETA: 1s - loss: 0.6917 - acc: 0.518 - ETA: 1s - loss: 0.6916 - acc: 0.518 - ETA: 1s - loss: 0.6915 - acc: 0.518 - ETA: 1s - loss: 0.6914 - acc: 0.517 - ETA: 1s - loss: 0.6916 - acc: 0.516 - ETA: 0s - loss: 0.6915 - acc: 0.517 - ETA: 0s - loss: 0.6916 - acc: 0.516 - ETA: 0s - loss: 0.6913 - acc: 0.518 - ETA: 0s - loss: 0.6913 - acc: 0.518 - ETA: 0s - loss: 0.6912 - acc: 0.519 - ETA: 0s - loss: 0.6911 - acc: 0.520 - ETA: 0s - loss: 0.6910 - acc: 0.521 - ETA: 0s - loss: 0.6909 - acc: 0.521 - ETA: 0s - loss: 0.6909 - acc: 0.522 - ETA: 0s - loss: 0.6911 - acc: 0.521 - ETA: 0s - loss: 0.6911 - acc: 0.521 - ETA: 0s - loss: 0.6911 - acc: 0.521 - ETA: 0s - loss: 0.6910 - acc: 0.522 - ETA: 0s - loss: 0.6909 - acc: 0.523 - ETA: 0s - loss: 0.6908 - acc: 0.524 - 3s 199us/step - loss: 0.6908 - acc: 0.5241 - val_loss: 0.6914 - val_acc: 0.5197\n",
      "Epoch 10/10\n",
      "13719/13719 [==============================] - ETA: 2s - loss: 0.6988 - acc: 0.500 - ETA: 2s - loss: 0.6935 - acc: 0.510 - ETA: 2s - loss: 0.6910 - acc: 0.523 - ETA: 2s - loss: 0.6909 - acc: 0.522 - ETA: 2s - loss: 0.6898 - acc: 0.532 - ETA: 2s - loss: 0.6899 - acc: 0.531 - ETA: 1s - loss: 0.6900 - acc: 0.528 - ETA: 1s - loss: 0.6901 - acc: 0.522 - ETA: 1s - loss: 0.6897 - acc: 0.524 - ETA: 1s - loss: 0.6891 - acc: 0.528 - ETA: 1s - loss: 0.6886 - acc: 0.530 - ETA: 1s - loss: 0.6889 - acc: 0.530 - ETA: 1s - loss: 0.6891 - acc: 0.530 - ETA: 1s - loss: 0.6890 - acc: 0.531 - ETA: 1s - loss: 0.6893 - acc: 0.530 - ETA: 1s - loss: 0.6897 - acc: 0.528 - ETA: 1s - loss: 0.6896 - acc: 0.529 - ETA: 1s - loss: 0.6903 - acc: 0.525 - ETA: 1s - loss: 0.6901 - acc: 0.527 - ETA: 1s - loss: 0.6897 - acc: 0.529 - ETA: 1s - loss: 0.6898 - acc: 0.529 - ETA: 1s - loss: 0.6892 - acc: 0.531 - ETA: 1s - loss: 0.6894 - acc: 0.530 - ETA: 0s - loss: 0.6892 - acc: 0.530 - ETA: 0s - loss: 0.6894 - acc: 0.529 - ETA: 0s - loss: 0.6892 - acc: 0.530 - ETA: 0s - loss: 0.6895 - acc: 0.530 - ETA: 0s - loss: 0.6897 - acc: 0.530 - ETA: 0s - loss: 0.6898 - acc: 0.529 - ETA: 0s - loss: 0.6899 - acc: 0.529 - ETA: 0s - loss: 0.6897 - acc: 0.530 - ETA: 0s - loss: 0.6898 - acc: 0.531 - ETA: 0s - loss: 0.6898 - acc: 0.531 - ETA: 0s - loss: 0.6898 - acc: 0.532 - ETA: 0s - loss: 0.6896 - acc: 0.532 - ETA: 0s - loss: 0.6898 - acc: 0.531 - ETA: 0s - loss: 0.6897 - acc: 0.532 - ETA: 0s - loss: 0.6898 - acc: 0.531 - ETA: 0s - loss: 0.6896 - acc: 0.531 - 3s 195us/step - loss: 0.6898 - acc: 0.5303 - val_loss: 0.6891 - val_acc: 0.5243\n"
     ]
    },
    {
     "data": {
      "text/plain": [
       "<keras.callbacks.History at 0x1bc9dc296a0>"
      ]
     },
     "execution_count": 115,
     "metadata": {},
     "output_type": "execute_result"
    }
   ],
   "source": [
    "#compiling the model\n",
    "finalmodel = modelbuild()\n",
    "finalmodel.fit(trainx, trainy, epochs=10, batch_size=120,validation_data=(validx,validy))"
   ]
  },
  {
   "cell_type": "code",
   "execution_count": 99,
   "metadata": {},
   "outputs": [
    {
     "name": "stdout",
     "output_type": "stream",
     "text": [
      "_________________________________________________________________\n",
      "Layer (type)                 Output Shape              Param #   \n",
      "=================================================================\n",
      "input_7 (InputLayer)         (None, 15, 1)             0         \n",
      "_________________________________________________________________\n",
      "simple_rnn_7 (SimpleRNN)     (None, 100)               10200     \n",
      "_________________________________________________________________\n",
      "dense_19 (Dense)             (None, 1000)              101000    \n",
      "_________________________________________________________________\n",
      "dense_20 (Dense)             (None, 500)               500500    \n",
      "_________________________________________________________________\n",
      "dense_21 (Dense)             (None, 2)                 1002      \n",
      "=================================================================\n",
      "Total params: 612,702\n",
      "Trainable params: 612,702\n",
      "Non-trainable params: 0\n",
      "_________________________________________________________________\n"
     ]
    }
   ],
   "source": [
    "# References\n",
    "finalmodel.summary()"
   ]
  },
  {
   "cell_type": "code",
   "execution_count": null,
   "metadata": {
    "collapsed": true
   },
   "outputs": [],
   "source": [
    "'''\n",
    "References\n",
    "https://www.analyticsvidhya.com/blog/2017/12/introduction-to-recurrent-neural-networks/\n",
    "\n",
    "Great article with good functional python code. Thanks\n",
    "\n",
    "Couple of errors found, here are the resolutions:\n",
    "1. Parenthesis missing at the end of this.\n",
    "model.compile(loss='categorical_crossentropy', optimizer='adam', metrics=['accuracy']\n",
    "\n",
    "2. no. of train examples should be len(cleanvectors), instead of 32000\n",
    "cleanvector =cleanvector.reshape(32000,200,1)\n",
    "\n",
    "3.  replace record count with len(cleanvectors), instead of 32000\n",
    "data=data.reshape(32000,15,1)\n",
    "ValueError: cannot reshape array of size 6000 into shape (32000,15,1)\n",
    "'''\n"
   ]
  }
 ],
 "metadata": {
  "kernelspec": {
   "display_name": "Python 3",
   "language": "python",
   "name": "python3"
  },
  "language_info": {
   "codemirror_mode": {
    "name": "ipython",
    "version": 3
   },
   "file_extension": ".py",
   "mimetype": "text/x-python",
   "name": "python",
   "nbconvert_exporter": "python",
   "pygments_lexer": "ipython3",
   "version": "3.6.3"
  }
 },
 "nbformat": 4,
 "nbformat_minor": 2
}
